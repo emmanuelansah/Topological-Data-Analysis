{
 "cells": [
  {
   "cell_type": "markdown",
   "metadata": {},
   "source": [
    "# <center> <b> <span style=\"color:RED;\"> TOPOLOGICAL DATA ANALYSIS </span> </b></center>"
   ]
  },
  {
   "cell_type": "markdown",
   "metadata": {},
   "source": [
    "\n",
    "## <center> <b> <span style=\"color:blue;\"> GROUP 11  </span> </b></center>\n",
    "\n",
    "## <center> <b> <span style=\"color:orange;\">Project 1 </span> </b></center>"
   ]
  },
  {
   "cell_type": "markdown",
   "metadata": {},
   "source": [
    "## <b> <span style=\"color:green;\">GROUP MEMBERS: </span> </b>\n",
    " - Emmanuel Ansah\n",
    " - Linda INGABIRE\n",
    " - Josue TWAHIRWA\n",
    " - Miarisoa Elalie RASAMIMANANA"
   ]
  },
  {
   "cell_type": "markdown",
   "metadata": {},
   "source": [
    "# Incremental Algorithm"
   ]
  },
  {
   "cell_type": "code",
   "execution_count": 1,
   "metadata": {
    "id": "YNKodNLWtafT"
   },
   "outputs": [],
   "source": [
    "import numpy as np\n",
    "from copy import deepcopy\n",
    "def incremental_betti(simplices):\n",
    "    \"\"\"Computes Betti numbers using the incremental algorithm.\"\"\"\n",
    "    sorted_simplices = sort_simplices(simplices)\n",
    "    betti_numbers = {}\n",
    "    max_dim = max(len(s) for s in sorted_simplices) - 1\n",
    "    for dim in range(max_dim + 1):\n",
    "        betti_numbers[dim] = 0\n",
    "\n",
    "    boundary_matrix = create_boundary_matrix(sorted_simplices)\n",
    "    reduced_matrix = reduce_matrix(boundary_matrix, verbose=False) # Turn on verbose for debugging\n",
    "\n",
    "    for j, simplex in enumerate(sorted_simplices):\n",
    "        dim = len(simplex) - 1\n",
    "        if np.all(reduced_matrix[:, j] == 0):\n",
    "            betti_numbers[dim] += 1\n",
    "        elif dim > 0:\n",
    "            betti_numbers[dim - 1] -= 1\n",
    "    betti_numbers_list = [betti_numbers[i] for i in sorted(betti_numbers)]\n",
    "    return betti_numbers_list"
   ]
  },
  {
   "cell_type": "markdown",
   "metadata": {},
   "source": [
    "# Gauss Reduction Algorithm"
   ]
  },
  {
   "cell_type": "code",
   "execution_count": 2,
   "metadata": {
    "id": "T_REg73O4ZZ2"
   },
   "outputs": [],
   "source": [
    "def sort_simplices(simplices):\n",
    "    \"\"\"Sorts simplices by dimension and then lexicographically.\"\"\"\n",
    "    return sorted(simplices, key=lambda s: (len(s), tuple(s)))\n",
    "\n",
    "def create_boundary_matrix(simplices):\n",
    "    \"\"\"Creates the boundary matrix for the given simplices.\"\"\"\n",
    "    n = len(simplices)\n",
    "    matrix = np.zeros((n, n), dtype=int)\n",
    "    for j, simplex_j in enumerate(simplices):\n",
    "      for i, simplex_i in enumerate(simplices):\n",
    "          if len(simplex_j) == len(simplex_i) + 1 and set(simplex_i).issubset(set(simplex_j)):\n",
    "              matrix[i,j] = 1\n",
    "    return matrix\n",
    "\n",
    "\n",
    "def reduce_matrix(matrix, verbose=False):\n",
    "    \"\"\"Performs Gaussian reduction on the boundary matrix.\"\"\"\n",
    "    reduced_matrix = deepcopy(matrix)\n",
    "    num_cols = reduced_matrix.shape[1]\n",
    "    pivots = {}\n",
    "    if verbose:\n",
    "        print(\"Initial Matrix:\")\n",
    "        print(reduced_matrix)\n",
    "    for j in range(num_cols):\n",
    "      column = reduced_matrix[:,j]\n",
    "      pivot_rows = np.where(column == 1)[0]\n",
    "      if len(pivot_rows) > 0:\n",
    "        pivots[j] = max(pivot_rows)\n",
    "    if verbose:\n",
    "      print(\"Initial pivots:\", pivots)\n",
    "    j=0\n",
    "    while j < num_cols:\n",
    "        current_column = reduced_matrix[:, j]\n",
    "        pivot_rows = np.where(current_column == 1)[0]\n",
    "        if len(pivot_rows) > 0:\n",
    "            pivot_row = max(pivot_rows) #get the pivot index, for column j\n",
    "            for k in range(j):\n",
    "                other_column = reduced_matrix[:, k]\n",
    "                other_pivot_rows = np.where(other_column == 1)[0]\n",
    "                if len(other_pivot_rows) > 0:\n",
    "                  other_pivot_row = max(other_pivot_rows)\n",
    "                  if other_pivot_row == pivot_row:\n",
    "                    reduced_matrix[:,j] = (reduced_matrix[:,j] + reduced_matrix[:,k]) % 2\n",
    "                    pivot_rows = np.where(reduced_matrix[:,j] == 1)[0]\n",
    "                    new_pivots = {}\n",
    "                    if len(pivot_rows) > 0:\n",
    "                      new_pivots[j] = max(pivot_rows)\n",
    "                    pivots.update(new_pivots)\n",
    "                    if verbose:\n",
    "                        print(f\"Added column {k} to column {j}, updated pivots:\")\n",
    "                        print(reduced_matrix)\n",
    "                        print(pivots)\n",
    "                    break # go to next column\n",
    "            else: # if we didn't find any other columns with same pivot, we go to the next column\n",
    "              j+=1\n",
    "        else: #if no pivot in current column, go to the next one\n",
    "            j+=1\n",
    "    if verbose:\n",
    "      print(\"Final pivots:\", pivots)\n",
    "    return reduced_matrix"
   ]
  },
  {
   "cell_type": "markdown",
   "metadata": {},
   "source": [
    "## Testing for circle"
   ]
  },
  {
   "cell_type": "code",
   "execution_count": 3,
   "metadata": {},
   "outputs": [
    {
     "name": "stdout",
     "output_type": "stream",
     "text": [
      "Betti numbers of the Circle: [1, 1]\n"
     ]
    },
    {
     "data": {
      "text/plain": [
       "array([[0, 0, 0, 1, 1, 0],\n",
       "       [0, 0, 0, 1, 0, 0],\n",
       "       [0, 0, 0, 0, 1, 0],\n",
       "       [0, 0, 0, 0, 0, 0],\n",
       "       [0, 0, 0, 0, 0, 0],\n",
       "       [0, 0, 0, 0, 0, 0]])"
      ]
     },
     "execution_count": 3,
     "metadata": {},
     "output_type": "execute_result"
    }
   ],
   "source": [
    "circle = [(0,), (1,), (2,), (0, 1), (1, 2), (0, 2)]\n",
    "print(\"Betti numbers of the Circle:\", incremental_betti(circle))\n",
    "\n",
    "s=sort_simplices(circle)\n",
    "\n",
    "b=create_boundary_matrix(s)\n",
    "\n",
    "reduce_matrix(b)\n"
   ]
  },
  {
   "cell_type": "markdown",
   "metadata": {},
   "source": [
    "## Testing for sphere"
   ]
  },
  {
   "cell_type": "code",
   "execution_count": 4,
   "metadata": {},
   "outputs": [
    {
     "name": "stdout",
     "output_type": "stream",
     "text": [
      "Betti numbers of the Sphere: [1, 0, 1]\n"
     ]
    },
    {
     "data": {
      "text/plain": [
       "array([[0, 0, 0, 0, 1, 1, 1, 0, 0, 0, 0, 0, 0, 0],\n",
       "       [0, 0, 0, 0, 1, 0, 0, 0, 0, 0, 0, 0, 0, 0],\n",
       "       [0, 0, 0, 0, 0, 1, 0, 0, 0, 0, 0, 0, 0, 0],\n",
       "       [0, 0, 0, 0, 0, 0, 1, 0, 0, 0, 0, 0, 0, 0],\n",
       "       [0, 0, 0, 0, 0, 0, 0, 0, 0, 0, 1, 1, 0, 0],\n",
       "       [0, 0, 0, 0, 0, 0, 0, 0, 0, 0, 1, 0, 1, 0],\n",
       "       [0, 0, 0, 0, 0, 0, 0, 0, 0, 0, 0, 1, 1, 0],\n",
       "       [0, 0, 0, 0, 0, 0, 0, 0, 0, 0, 1, 0, 0, 0],\n",
       "       [0, 0, 0, 0, 0, 0, 0, 0, 0, 0, 0, 1, 0, 0],\n",
       "       [0, 0, 0, 0, 0, 0, 0, 0, 0, 0, 0, 0, 1, 0],\n",
       "       [0, 0, 0, 0, 0, 0, 0, 0, 0, 0, 0, 0, 0, 0],\n",
       "       [0, 0, 0, 0, 0, 0, 0, 0, 0, 0, 0, 0, 0, 0],\n",
       "       [0, 0, 0, 0, 0, 0, 0, 0, 0, 0, 0, 0, 0, 0],\n",
       "       [0, 0, 0, 0, 0, 0, 0, 0, 0, 0, 0, 0, 0, 0]])"
      ]
     },
     "execution_count": 4,
     "metadata": {},
     "output_type": "execute_result"
    }
   ],
   "source": [
    "sphere = [(0,), (1,), (2,), (3,), (0, 1), (0, 2), (0, 3), (1, 2), (1, 3), (2, 3), (0, 1, 2), (0, 1, 3), (0, 2, 3), (1, 2, 3)]\n",
    "print(\"Betti numbers of the Sphere:\", incremental_betti(sphere))\n",
    "\n",
    "s=sort_simplices(sphere)\n",
    "b=create_boundary_matrix(s)\n",
    "reduce_matrix(b)"
   ]
  },
  {
   "cell_type": "markdown",
   "metadata": {},
   "source": [
    "## Testing for Torus"
   ]
  },
  {
   "cell_type": "code",
   "execution_count": 5,
   "metadata": {},
   "outputs": [
    {
     "name": "stdout",
     "output_type": "stream",
     "text": [
      "Betti numbers of the Torus: [1, 2, 1]\n"
     ]
    },
    {
     "data": {
      "text/plain": [
       "array([[0, 0, 0, ..., 0, 0, 0],\n",
       "       [0, 0, 0, ..., 0, 0, 0],\n",
       "       [0, 0, 0, ..., 0, 0, 0],\n",
       "       ...,\n",
       "       [0, 0, 0, ..., 0, 0, 0],\n",
       "       [0, 0, 0, ..., 0, 0, 0],\n",
       "       [0, 0, 0, ..., 0, 0, 0]])"
      ]
     },
     "execution_count": 5,
     "metadata": {},
     "output_type": "execute_result"
    }
   ],
   "source": [
    "\n",
    "torus = [\n",
    "    # 0-simplices (vertices)\n",
    "    (0,), (1,), (2,), (3,), (4,), (5,), (6,), (7,), (8,),\n",
    "\n",
    "    # 1-simplices (edges)\n",
    "    (0, 1), (0, 2), (0, 3), (0, 4), (0, 6), (0, 7),\n",
    "    (1, 2), (1, 3), (1, 5), (1, 6), (1, 8),\n",
    "    (2, 5), (2, 7), (2, 8), (2, 4),\n",
    "    (3, 4), (3, 5), (3, 7), (3, 8),\n",
    "    (4, 5), (4, 6), (4, 8),\n",
    "    (5, 6), (5, 7),\n",
    "    (6, 7), (6, 8),\n",
    "    (7, 8),\n",
    "\n",
    "    # 2-simplices (faces)\n",
    "    (0, 1, 3), (1, 3, 5), (1, 2, 5), (2, 5, 7), (0, 2, 7), (0, 3, 7),\n",
    "    (3, 4, 5), (4, 5, 6), (5, 6, 7), (6, 7, 8), (3, 7, 8), (3, 4, 8),\n",
    "    (0, 4, 6), (0, 1, 6), (1, 6, 8), (1, 2, 8), (2, 8, 4), (0, 2, 4)\n",
    "]\n",
    "\n",
    "print(\"Betti numbers of the Torus:\", incremental_betti(torus))\n",
    "\n",
    "s=sort_simplices(torus)\n",
    "b=create_boundary_matrix(s)\n",
    "reduce_matrix(b)"
   ]
  },
  {
   "cell_type": "code",
   "execution_count": null,
   "metadata": {},
   "outputs": [],
   "source": []
  }
 ],
 "metadata": {
  "colab": {
   "provenance": []
  },
  "kernelspec": {
   "display_name": "Python 3",
   "language": "python",
   "name": "python3"
  },
  "language_info": {
   "codemirror_mode": {
    "name": "ipython",
    "version": 3
   },
   "file_extension": ".py",
   "mimetype": "text/x-python",
   "name": "python",
   "nbconvert_exporter": "python",
   "pygments_lexer": "ipython3",
   "version": "3.9.2"
  }
 },
 "nbformat": 4,
 "nbformat_minor": 4
}
